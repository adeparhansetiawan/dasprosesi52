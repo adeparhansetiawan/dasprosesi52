{
 "cells": [
  {
   "cell_type": "markdown",
   "id": "0ad85bda-f30b-4435-85bd-e97bd9a586d9",
   "metadata": {},
   "source": [
    "NOMOR 1"
   ]
  },
  {
   "cell_type": "code",
   "execution_count": 10,
   "id": "6c39b628-597c-49cb-b64f-0102f6e32cd8",
   "metadata": {},
   "outputs": [
    {
     "name": "stdin",
     "output_type": "stream",
     "text": [
      "Masukkan nama anda:  ade parhan setiawan\n",
      "Berapa usia anda:  19\n",
      "Masukkan asal kota:  jampang tengah\n",
      "Sedang berkuliah di:  nusa putra\n"
     ]
    },
    {
     "name": "stdout",
     "output_type": "stream",
     "text": [
      "===========================================================\n",
      "Nama: ade parhan setiawan\n",
      "Umur: 19\n",
      "Asal: jampang tengah\n",
      "Kuliah: nusa putra\n"
     ]
    }
   ],
   "source": [
    "nama = input(\"Masukkan nama anda: \")\n",
    "umur = int(input(\"Berapa usia anda: \"))\n",
    "asal = input(\"Masukkan asal kota: \")\n",
    "kuliah = input(\"Sedang berkuliah di: \")\n",
    "print(\"===========================================================\")\n",
    "print(\"Nama: {0}\\nUmur: {1}\\nAsal: {2}\\nKuliah: {3}\".format(nama,umur,asal,kuliah))"
   ]
  },
  {
   "cell_type": "markdown",
   "id": "bd2552f0-127d-4888-8328-a7502c9f92db",
   "metadata": {},
   "source": [
    "NOMOR 2"
   ]
  },
  {
   "cell_type": "code",
   "execution_count": 13,
   "id": "73ba0dd1-c0ba-42ae-93ee-2862bd0d4b50",
   "metadata": {},
   "outputs": [
    {
     "name": "stdout",
     "output_type": "stream",
     "text": [
      "UNIVERSITAS NUSA PUTRA SUKABUMI\n",
      "a: putra nusa\n",
      "===============================================\n",
      "b: NIVERSITAS NSA PTRA SKABMI\n",
      "===============================================\n",
      "c: ['SUKABUMI', 'PUTRA', 'NUSA', 'UNIVERSITAS']\n",
      "===============================================\n",
      "d: UNPS\n",
      "===============================================\n",
      "e: TAS SAPU BUMI\n"
     ]
    }
   ],
   "source": [
    "kalimat = \"UNIVERSITAS NUSA PUTRA SUKABUMI\"\n",
    "print(kalimat)\n",
    "kata = kalimat.split()\n",
    "print(\"a:\",kata[2].lower(), kata[1].lower())\n",
    "print(\"===============================================\")\n",
    "hapusU = kalimat.replace(\"U\",\"\")\n",
    "print(\"b:\",hapusU)\n",
    "print(\"===============================================\")\n",
    "print(\"c:\",kalimat.split()[::-1])\n",
    "print(\"===============================================\")\n",
    "print(\"d:\",kata[0][0]+kata[1][0]+kata[2][0]+kata[3][0])\n",
    "print(\"===============================================\")\n",
    "print(\"e:\",kata[0][-3:],kata[1][-2:]+kata[2][:+2],kata[3][-4:])"
   ]
  }
 ],
 "metadata": {
  "kernelspec": {
   "display_name": "Python [conda env:base] *",
   "language": "python",
   "name": "conda-base-py"
  },
  "language_info": {
   "codemirror_mode": {
    "name": "ipython",
    "version": 3
   },
   "file_extension": ".py",
   "mimetype": "text/x-python",
   "name": "python",
   "nbconvert_exporter": "python",
   "pygments_lexer": "ipython3",
   "version": "3.12.7"
  }
 },
 "nbformat": 4,
 "nbformat_minor": 5
}
